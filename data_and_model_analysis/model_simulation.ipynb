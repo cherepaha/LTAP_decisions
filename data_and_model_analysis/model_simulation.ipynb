{
 "cells": [
  {
   "cell_type": "code",
   "execution_count": 1,
   "metadata": {},
   "outputs": [],
   "source": [
    "import numpy as np\n",
    "import pandas as pd\n",
    "import matplotlib.pyplot as plt\n",
    "import seaborn as sns\n",
    "import ddm\n",
    "import os \n",
    "import csv\n",
    "from model_definitions import ModelTtaBounds\n",
    "\n",
    "import paranoid as pns\n",
    "pns.settings.Settings.set(enabled=False)"
   ]
  },
  {
   "cell_type": "code",
   "execution_count": 5,
   "metadata": {},
   "outputs": [],
   "source": [
    "def get_model_measures(model, condition):\n",
    "#     print(condition)\n",
    "    sol = model.solve(condition)\n",
    "    return condition['tta_condition'], condition['d_condition'], sol.prob_correct(), sol.mean_decision_time()\n",
    "\n",
    "def simulate_model(ndt, param_set, conditions): \n",
    "    overlay = (ddm.OverlayNonDecisionUniform(nondectime=param_set.nondectime,\n",
    "                                            halfwidth=param_set.halfwidth) \n",
    "                if ndt=='uniform' else \n",
    "               ModelTtaBounds.OverlayNonDecisionGaussian(nondectime=param_set.ndt_location,\n",
    "                                                       ndsigma=param_set.ndt_scale))\n",
    "\n",
    "    model = ddm.Model(name='5 TTA- and d-dependent drift and bounds and random nondecision time',\n",
    "                         drift=ModelTtaBounds.DriftTtaDistance(alpha=param_set.alpha, \n",
    "                                                               beta=param_set.beta, theta=param_set.theta),\n",
    "                         noise=ddm.NoiseConstant(noise=param_set.noise),\n",
    "                         bound=ModelTtaBounds.BoundCollapsingTta(b_0=param_set.b_0, \n",
    "                                                                 k=param_set.k, tta_crit=param_set.tta_crit),\n",
    "                         overlay=overlay, T_dur=ModelTtaBounds.T_dur)\n",
    "    model_measures = pd.DataFrame([get_model_measures(model, condition) for condition in conditions],\n",
    "                                  columns=['tta_condition', 'd_condition', 'is_turn_decision', 'RT'])\n",
    "    model_measures['subj_id'] = param_set.subj_id\n",
    "    \n",
    "#     model_rt_histograms = pd.DataFrame({'tta_condition': condition['tta_condition'],\n",
    "#                                         'd_condition':  condition['d_condition'],\n",
    "#                                         't': model.t_domain(),\n",
    "#                                         'rt_corr_pdf': sol.pdf_corr()/sol.prob_correct()})\n",
    "    return(model_measures)"
   ]
  },
  {
   "cell_type": "code",
   "execution_count": 6,
   "metadata": {},
   "outputs": [],
   "source": [
    "def save_sim_results(ndt, file_name):\n",
    "    exp_data = pd.read_csv('../data/measures.csv', usecols=['subj_id', 'RT', 'is_turn_decision', \n",
    "                                                    'tta_condition', 'd_condition'])\n",
    "    subjects = exp_data.subj_id.unique()\n",
    "    conditions = [{'tta_condition': tta, 'd_condition': d} \n",
    "                   for tta in exp_data.tta_condition.unique() \n",
    "                   for d in exp_data.d_condition.unique()]\n",
    "\n",
    "    path = '../model_fit_results/%s_ndt' % (ndt)\n",
    "    file_path = os.path.join(path, file_name)\n",
    "    parameters = pd.read_csv(file_path).rename(columns={'tta': 'tta_condition', 'd': 'd_condition'})\n",
    "    \n",
    "    if ('cross_validation' in file_name):\n",
    "#         print([param_set[['tta_condition', 'd_condition']].to_dict() for idx, param_set in parameters.iterrows()])\n",
    "#         for cross-validated fits, we need to read conditions from params\n",
    "        sim_results = [simulate_model(ndt, param_set, [param_set[['tta_condition', 'd_condition']].to_dict()]) \n",
    "                       for idx, param_set in parameters.iterrows()]\n",
    "    else:\n",
    "        # for the uniform ndt fits, multiple runs were performed per subject; only leave the best iteration\n",
    "        if ((ndt=='uniform') & (len(parameters.i.unique())>1)): \n",
    "            idx_best_fit = parameters['loss'] == parameters.groupby(['subj_id'])['loss'].transform(max)\n",
    "            parameters = parameters[idx_best_fit]\n",
    "        sim_results = [simulate_model(ndt, param_set, conditions) for idx, param_set in parameters.iterrows()]\n",
    "    \n",
    "    sim_results = pd.concat(sim_results)\n",
    "    sim_results.to_csv(file_path.replace('merged', 'measures'), index=False)"
   ]
  },
  {
   "cell_type": "code",
   "execution_count": 6,
   "metadata": {},
   "outputs": [],
   "source": [
    "save_sim_results('gaussian', 'all_conditions_merged.csv')"
   ]
  },
  {
   "cell_type": "code",
   "execution_count": 7,
   "metadata": {},
   "outputs": [],
   "source": [
    "save_sim_results('gaussian', 'cross_validation_and_merged.csv')"
   ]
  },
  {
   "cell_type": "code",
   "execution_count": 8,
   "metadata": {},
   "outputs": [],
   "source": [
    "save_sim_results('gaussian', 'cross_validation_or_merged.csv')"
   ]
  },
  {
   "cell_type": "code",
   "execution_count": 14,
   "metadata": {},
   "outputs": [],
   "source": [
    "save_sim_results('uniform', 'all_conditions_merged.csv')"
   ]
  },
  {
   "cell_type": "code",
   "execution_count": 67,
   "metadata": {},
   "outputs": [],
   "source": [
    "save_sim_results('uniform', 'cross_validation_4_merged.csv')"
   ]
  },
  {
   "cell_type": "code",
   "execution_count": 68,
   "metadata": {},
   "outputs": [],
   "source": [
    "save_sim_results('uniform', 'cross_validation_8_merged.csv')"
   ]
  },
  {
   "cell_type": "code",
   "execution_count": 53,
   "metadata": {},
   "outputs": [
    {
     "data": {
      "image/png": "[encoded data removed]",
      "text/plain": [
       "<Figure size 864x432 with 8 Axes>"
      ]
     },
     "metadata": {
      "needs_background": "light"
     },
     "output_type": "display_data"
    }
   ],
   "source": [
    "var = 'is_turn_decision'\n",
    "data = exp_data\n",
    "\n",
    "fig, axes = plt.subplots(2, 4, figsize=(12,6), sharex=True, sharey=True)\n",
    "\n",
    "for subj_id, ax in zip(subjects, axes.flatten()[1:]):\n",
    "    ax.set_title(subj_id, fontsize=16)\n",
    "    if not ((subj_id == 616) & (var=='RT')):\n",
    "        sns.pointplot(ax=ax, data=data[data.subj_id==subj_id], \n",
    "                  x='tta_condition', y=var, hue='d_condition', join=False, dodge=0.05,\n",
    "                  markers=['o', 's', '^'], scale=1, errwidth=2)\n",
    "    else:\n",
    "        sns.pointplot(ax=ax, data=data[data.subj_id==subj_id], \n",
    "                  x='tta_condition', y=var, hue='d_condition', join=False, dodge=0.05,\n",
    "                  markers=['s', '^'], palette=['C1', 'C2'], scale=1, errwidth=2)\n",
    "\n",
    "#     subj_fit_results_path = os.path.join(fit_results_path, str(subj_id))\n",
    "#     subj_model_measures = pd.read_csv(os.path.join(subj_fit_results_path, 'measures.csv'))\n",
    "    for d_condition, marker in zip(d_conditions, ['o', 's', '^']):\n",
    "        ax.plot([0, 1, 2], subj_model_measures.loc[(model_measures.d_condition==d_condition) \n",
    "                                                   & (model_measures.subj_id==subj_id) , var], \n",
    "                zorder=0.1)\n",
    "\n",
    "    ax.legend().remove()\n",
    "    ax.set_xlabel('')\n",
    "    ax.set_ylabel('')\n",
    "plt.tight_layout()\n",
    "sns.despine(offset=5, trim=True)"
   ]
  }
 ],
 "metadata": {
  "kernelspec": {
   "display_name": "Python 3",
   "language": "python",
   "name": "python3"
  },
  "language_info": {
   "codemirror_mode": {
    "name": "ipython",
    "version": 3
   },
   "file_extension": ".py",
   "mimetype": "text/x-python",
   "name": "python",
   "nbconvert_exporter": "python",
   "pygments_lexer": "ipython3",
   "version": "3.7.4"
  }
 },
 "nbformat": 4,
 "nbformat_minor": 4
}
