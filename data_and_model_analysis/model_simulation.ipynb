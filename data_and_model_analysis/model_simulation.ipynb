{
 "cells": [
  {
   "cell_type": "code",
   "execution_count": 1,
   "metadata": {},
   "outputs": [
    {
     "data": {
      "text/plain": [
       "-5.955875168377274e-16"
      ]
     },
     "execution_count": 1,
     "metadata": {},
     "output_type": "execute_result"
    }
   ],
   "source": [
    "import numpy as np\n",
    "from scipy.stats import rv_continuous\n",
    "class gaussian_gen(rv_continuous):\n",
    "    def _pdf(self, x):\n",
    "        return np.exp(-x**2 / 2.) / np.sqrt(2.0 * np.pi)\n",
    "gaussian = gaussian_gen(name='gaussian')\n",
    "gaussian.mean()"
   ]
  },
  {
   "cell_type": "code",
   "execution_count": 1,
   "metadata": {},
   "outputs": [],
   "source": [
    "import numpy as np\n",
    "import pandas as pd\n",
    "import matplotlib.pyplot as plt\n",
    "import seaborn as sns\n",
    "import ddm\n",
    "import os \n",
    "import csv\n",
    "import helper\n",
    "from model_definitions import ModelTtaBounds"
   ]
  },
  {
   "cell_type": "code",
   "execution_count": 2,
   "metadata": {
    "scrolled": true
   },
   "outputs": [
    {
     "name": "stdout",
     "output_type": "stream",
     "text": [
      "../model_fit_results/cross_validation_all\\subj_129.csv\n",
      "../model_fit_results/cross_validation_all\\subj_389.csv\n",
      "../model_fit_results/cross_validation_all\\subj_525.csv\n",
      "../model_fit_results/cross_validation_all\\subj_616.csv\n",
      "../model_fit_results/cross_validation_all\\subj_618.csv\n",
      "../model_fit_results/cross_validation_all\\subj_642.csv\n",
      "../model_fit_results/cross_validation_all\\subj_755.csv\n",
      "../model_fit_results/cross_validation_all\\subj_all.csv\n",
      "../model_fit_results/cross_validation_8\\subj_129.csv\n",
      "../model_fit_results/cross_validation_8\\subj_389.csv\n",
      "../model_fit_results/cross_validation_8\\subj_525.csv\n",
      "../model_fit_results/cross_validation_8\\subj_616.csv\n",
      "../model_fit_results/cross_validation_8\\subj_618.csv\n",
      "../model_fit_results/cross_validation_8\\subj_642.csv\n",
      "../model_fit_results/cross_validation_8\\subj_755.csv\n",
      "../model_fit_results/cross_validation_8\\subj_all.csv\n",
      "../model_fit_results/cross_validation_4\\subj_129.csv\n",
      "../model_fit_results/cross_validation_4\\subj_389.csv\n",
      "../model_fit_results/cross_validation_4\\subj_525.csv\n",
      "../model_fit_results/cross_validation_4\\subj_616.csv\n",
      "../model_fit_results/cross_validation_4\\subj_618.csv\n",
      "../model_fit_results/cross_validation_4\\subj_642.csv\n",
      "../model_fit_results/cross_validation_4\\subj_755.csv\n"
     ]
    }
   ],
   "source": [
    "for folder in ['cross_validation_all', 'cross_validation_8', 'cross_validation_4']:\n",
    "    helper.merge_csv('../model_fit_results/%s' % (folder))"
   ]
  },
  {
   "cell_type": "code",
   "execution_count": 15,
   "metadata": {},
   "outputs": [],
   "source": [
    "def get_model_measures(model, condition):\n",
    "    sol = model.solve(condition)\n",
    "    return(condition['tta_condition'], condition['d_condition'], sol.prob_correct(), sol.mean_decision_time())\n",
    "\n",
    "def get_model_rt_cdf(model, condition):\n",
    "    sol = model.solve(condition)\n",
    "    return(pd.DataFrame({'tta_condition': condition['tta_condition'],\n",
    "                         'd_condition':  condition['d_condition'],\n",
    "                         't': model.t_domain(),\n",
    "                         'rt_corr_pdf': sol.cdf_corr()/sol.prob_correct()}))\n",
    "\n",
    "def get_model_rt_pdf(model, condition):\n",
    "    sol = model.solve(condition)\n",
    "    return(pd.DataFrame({'tta_condition': condition['tta_condition'],\n",
    "                         'd_condition':  condition['d_condition'],\n",
    "                         't': model.t_domain(),\n",
    "                         'rt_corr_pdf': sol.pdf_corr()/sol.prob_correct()}))\n",
    "#     return(condition['tta_condition'], condition['d_condition'], sol.pdf_corr()/sol.prob_correct())\n",
    "\n",
    "def initialize_model(param_set):\n",
    "    overlay = ModelTtaBounds.OverlayNonDecisionGaussian(nondectime=param_set.ndt_location, ndsigma=param_set.ndt_scale)\n",
    "    model = ddm.Model(name='TTA- and d-dependent drift and bounds and random nondecision time',\n",
    "                         drift=ModelTtaBounds.DriftTtaDistance(alpha=param_set.alpha, \n",
    "                                                               beta=param_set.beta, theta=param_set.theta),\n",
    "                         noise=ddm.NoiseConstant(noise=param_set.noise),\n",
    "                         bound=ModelTtaBounds.BoundCollapsingTta(b_0=param_set.b_0, \n",
    "                                                                 k=param_set.k, tta_crit=param_set.tta_crit),\n",
    "                         overlay=overlay, T_dur=ModelTtaBounds.T_dur)\n",
    "    return(model)\n",
    "\n",
    "def simulate_model(param_set, conditions, ret='measures'): \n",
    "    print(param_set.subj_id)\n",
    "    model = initialize_model(param_set)\n",
    "    if ret=='measures':\n",
    "        model_measures = pd.DataFrame([get_model_measures(model, condition) for condition in conditions],\n",
    "                                  columns=['tta_condition', 'd_condition', 'is_turn_decision', 'RT'])\n",
    "        model_measures['subj_id'] = param_set.subj_id\n",
    "        return(model_measures)\n",
    "    elif ret=='rt_pdf':\n",
    "        model_rt_pdf = pd.concat([get_model_rt_pdf(model, condition) for condition in conditions])\n",
    "        model_rt_pdf['subj_id'] = param_set.subj_id\n",
    "        return(model_rt_pdf)\n",
    "    elif ret=='rt_cdf':\n",
    "        model_rt_cdf = pd.concat([get_model_rt_cdf(model, condition) for condition in conditions])\n",
    "        model_rt_cdf['subj_id'] = param_set.subj_id\n",
    "        return(model_rt_cdf)\n",
    "    else:\n",
    "        raise(ValueError('ret value should be either \"measures\" or \"rt_pdf\"'))"
   ]
  },
  {
   "cell_type": "code",
   "execution_count": 3,
   "metadata": {},
   "outputs": [],
   "source": [
    "def save_sim_results(file_name, conditions=None, ret='measures'):\n",
    "    path = '../model_fit_results/'\n",
    "    file_path = os.path.join(path, file_name)\n",
    "    parameters = pd.read_csv(file_path).rename(columns={'tta': 'tta_condition', 'd': 'd_condition'})\n",
    "    \n",
    "    if ret=='measures':\n",
    "        if 'all' in file_name:\n",
    "            model_measures = [simulate_model(param_set, conditions, ret='measures') \n",
    "                                  for idx, param_set in parameters.iterrows()]\n",
    "        else:\n",
    "            model_measures = [simulate_model(param_set, [param_set[['tta_condition', 'd_condition']].to_dict()]) \n",
    "                               for idx, param_set in parameters.iterrows()]\n",
    "        model_measures = pd.concat(model_measures)\n",
    "        model_measures.to_csv(file_path.replace('parameters_fitted', 'measures'), index=False)\n",
    "    else:\n",
    "        model_rt_pdf = [simulate_model(param_set, conditions, ret=ret) for idx, param_set in parameters.iterrows()]\n",
    "        model_rt_pdf = pd.concat(model_rt_pdf)\n",
    "        model_rt_pdf.to_csv(file_path.replace('parameters_fitted', ret), index=False)"
   ]
  },
  {
   "cell_type": "code",
   "execution_count": 6,
   "metadata": {},
   "outputs": [],
   "source": [
    "conditions = [{'tta_condition': tta, 'd_condition': d} \n",
    "                       for tta in [4,5,6]\n",
    "                       for d in [90,120,150]]"
   ]
  },
  {
   "cell_type": "code",
   "execution_count": null,
   "metadata": {
    "scrolled": true
   },
   "outputs": [],
   "source": [
    "save_sim_results('cross_validation_all_parameters_fitted.csv', conditions, ret='rt_cdf')"
   ]
  },
  {
   "cell_type": "code",
   "execution_count": null,
   "metadata": {},
   "outputs": [],
   "source": [
    "save_sim_results('cross_validation_all_parameters_fitted.csv', conditions, ret='rt_pdf')"
   ]
  },
  {
   "cell_type": "code",
   "execution_count": 7,
   "metadata": {},
   "outputs": [],
   "source": [
    "save_sim_results('cross_validation_all_parameters_fitted.csv', conditions, ret='measures')"
   ]
  },
  {
   "cell_type": "markdown",
   "metadata": {},
   "source": [
    "## Simulating for cross-validation"
   ]
  },
  {
   "cell_type": "code",
   "execution_count": null,
   "metadata": {
    "scrolled": true
   },
   "outputs": [],
   "source": [
    "save_sim_results('cross_validation_8_parameters_fitted.csv', conditions, ret='measures')"
   ]
  }
 ],
 "metadata": {
  "kernelspec": {
   "display_name": "Python 3",
   "language": "python",
   "name": "python3"
  },
  "language_info": {
   "codemirror_mode": {
    "name": "ipython",
    "version": 3
   },
   "file_extension": ".py",
   "mimetype": "text/x-python",
   "name": "python",
   "nbconvert_exporter": "python",
   "pygments_lexer": "ipython3",
   "version": "3.6.10"
  }
 },
 "nbformat": 4,
 "nbformat_minor": 4
}
