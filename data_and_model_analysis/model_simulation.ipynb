{
 "cells": [
  {
   "cell_type": "code",
   "execution_count": 5,
   "metadata": {},
   "outputs": [],
   "source": [
    "import numpy as np\n",
    "import pandas as pd\n",
    "import matplotlib.pyplot as plt\n",
    "import seaborn as sns\n",
    "import ddm\n",
    "import os \n",
    "import csv\n",
    "from model_definitions import ModelTtaBounds"
   ]
  },
  {
   "cell_type": "markdown",
   "metadata": {},
   "source": [
    "Read parameters from the file, simulate model for a given parameter set, if the simulation time is short, plot p_turn and RTs, if not, save them to csv files"
   ]
  },
  {
   "cell_type": "code",
   "execution_count": 22,
   "metadata": {},
   "outputs": [],
   "source": [
    "ndt = 'gaussian'\n",
    "\n",
    "path = '../model_fit_results/%s_ndt' % (ndt)\n",
    "file_name = 'all_conditions_merged.csv'\n",
    "file_path = os.path.join(path, file_name)\n",
    "parameters = pd.read_csv(file_path)\n",
    "\n",
    "# idx_best_fit = parameters['loss'] == parameters.groupby(['subj_id'])['loss'].transform(max)\n",
    "# parameters = parameters[idx_best_fit]"
   ]
  },
  {
   "cell_type": "code",
   "execution_count": 37,
   "metadata": {},
   "outputs": [],
   "source": [
    "exp_data = pd.read_csv('../data/measures.csv', usecols=['subj_id', 'RT', 'is_turn_decision', \n",
    "                                                    'tta_condition', 'd_condition'])\n",
    "subjects = exp_data.subj_id.unique()\n",
    "conditions = [{'tta_condition': tta, 'd_condition': d} \n",
    "               for tta in exp_data.tta_condition.unique() \n",
    "               for d in exp_data.d_condition.unique()]"
   ]
  },
  {
   "cell_type": "code",
   "execution_count": 23,
   "metadata": {},
   "outputs": [
    {
     "data": {
      "text/html": [
       "<div>\n",
       "<style scoped>\n",
       "    .dataframe tbody tr th:only-of-type {\n",
       "        vertical-align: middle;\n",
       "    }\n",
       "\n",
       "    .dataframe tbody tr th {\n",
       "        vertical-align: top;\n",
       "    }\n",
       "\n",
       "    .dataframe thead th {\n",
       "        text-align: right;\n",
       "    }\n",
       "</style>\n",
       "<table border=\"1\" class=\"dataframe\">\n",
       "  <thead>\n",
       "    <tr style=\"text-align: right;\">\n",
       "      <th></th>\n",
       "      <th>subj_id</th>\n",
       "      <th>i</th>\n",
       "      <th>loss</th>\n",
       "      <th>alpha</th>\n",
       "      <th>beta</th>\n",
       "      <th>theta</th>\n",
       "      <th>noise</th>\n",
       "      <th>b_0</th>\n",
       "      <th>k</th>\n",
       "      <th>tta_crit</th>\n",
       "      <th>nondectime</th>\n",
       "      <th>halfwidth</th>\n",
       "    </tr>\n",
       "  </thead>\n",
       "  <tbody>\n",
       "    <tr>\n",
       "      <td>0</td>\n",
       "      <td>129</td>\n",
       "      <td>0</td>\n",
       "      <td>0.437970</td>\n",
       "      <td>1.502183</td>\n",
       "      <td>0.019671</td>\n",
       "      <td>6.834053</td>\n",
       "      <td>1</td>\n",
       "      <td>1.257530</td>\n",
       "      <td>1.263810</td>\n",
       "      <td>3.732779</td>\n",
       "      <td>0.367761</td>\n",
       "      <td>0.032294</td>\n",
       "    </tr>\n",
       "    <tr>\n",
       "      <td>1</td>\n",
       "      <td>389</td>\n",
       "      <td>0</td>\n",
       "      <td>0.313379</td>\n",
       "      <td>1.541730</td>\n",
       "      <td>0.052285</td>\n",
       "      <td>11.587208</td>\n",
       "      <td>1</td>\n",
       "      <td>0.906105</td>\n",
       "      <td>0.100136</td>\n",
       "      <td>5.399330</td>\n",
       "      <td>0.484890</td>\n",
       "      <td>0.105365</td>\n",
       "    </tr>\n",
       "    <tr>\n",
       "      <td>2</td>\n",
       "      <td>525</td>\n",
       "      <td>0</td>\n",
       "      <td>0.221842</td>\n",
       "      <td>1.234224</td>\n",
       "      <td>0.026751</td>\n",
       "      <td>7.621752</td>\n",
       "      <td>1</td>\n",
       "      <td>0.868100</td>\n",
       "      <td>0.103047</td>\n",
       "      <td>3.264810</td>\n",
       "      <td>0.220510</td>\n",
       "      <td>0.087622</td>\n",
       "    </tr>\n",
       "    <tr>\n",
       "      <td>3</td>\n",
       "      <td>616</td>\n",
       "      <td>0</td>\n",
       "      <td>0.201307</td>\n",
       "      <td>1.868214</td>\n",
       "      <td>0.039785</td>\n",
       "      <td>10.511767</td>\n",
       "      <td>1</td>\n",
       "      <td>0.887130</td>\n",
       "      <td>0.297751</td>\n",
       "      <td>4.599213</td>\n",
       "      <td>0.500000</td>\n",
       "      <td>0.088796</td>\n",
       "    </tr>\n",
       "    <tr>\n",
       "      <td>4</td>\n",
       "      <td>618</td>\n",
       "      <td>0</td>\n",
       "      <td>0.534275</td>\n",
       "      <td>1.131752</td>\n",
       "      <td>0.032144</td>\n",
       "      <td>8.225332</td>\n",
       "      <td>1</td>\n",
       "      <td>1.896079</td>\n",
       "      <td>0.330785</td>\n",
       "      <td>4.764160</td>\n",
       "      <td>0.182894</td>\n",
       "      <td>0.055941</td>\n",
       "    </tr>\n",
       "    <tr>\n",
       "      <td>5</td>\n",
       "      <td>642</td>\n",
       "      <td>0</td>\n",
       "      <td>0.516943</td>\n",
       "      <td>0.471747</td>\n",
       "      <td>0.111939</td>\n",
       "      <td>18.569484</td>\n",
       "      <td>1</td>\n",
       "      <td>1.081553</td>\n",
       "      <td>0.402499</td>\n",
       "      <td>3.345490</td>\n",
       "      <td>0.345195</td>\n",
       "      <td>0.158649</td>\n",
       "    </tr>\n",
       "    <tr>\n",
       "      <td>6</td>\n",
       "      <td>755</td>\n",
       "      <td>0</td>\n",
       "      <td>0.562080</td>\n",
       "      <td>0.552989</td>\n",
       "      <td>0.124447</td>\n",
       "      <td>19.330604</td>\n",
       "      <td>1</td>\n",
       "      <td>1.152863</td>\n",
       "      <td>0.471180</td>\n",
       "      <td>5.762067</td>\n",
       "      <td>0.384221</td>\n",
       "      <td>0.092433</td>\n",
       "    </tr>\n",
       "  </tbody>\n",
       "</table>\n",
       "</div>"
      ],
      "text/plain": [
       "   subj_id  i      loss     alpha      beta      theta  noise       b_0  \\\n",
       "0      129  0  0.437970  1.502183  0.019671   6.834053      1  1.257530   \n",
       "1      389  0  0.313379  1.541730  0.052285  11.587208      1  0.906105   \n",
       "2      525  0  0.221842  1.234224  0.026751   7.621752      1  0.868100   \n",
       "3      616  0  0.201307  1.868214  0.039785  10.511767      1  0.887130   \n",
       "4      618  0  0.534275  1.131752  0.032144   8.225332      1  1.896079   \n",
       "5      642  0  0.516943  0.471747  0.111939  18.569484      1  1.081553   \n",
       "6      755  0  0.562080  0.552989  0.124447  19.330604      1  1.152863   \n",
       "\n",
       "          k  tta_crit  nondectime  halfwidth  \n",
       "0  1.263810  3.732779    0.367761   0.032294  \n",
       "1  0.100136  5.399330    0.484890   0.105365  \n",
       "2  0.103047  3.264810    0.220510   0.087622  \n",
       "3  0.297751  4.599213    0.500000   0.088796  \n",
       "4  0.330785  4.764160    0.182894   0.055941  \n",
       "5  0.402499  3.345490    0.345195   0.158649  \n",
       "6  0.471180  5.762067    0.384221   0.092433  "
      ]
     },
     "execution_count": 23,
     "metadata": {},
     "output_type": "execute_result"
    }
   ],
   "source": [
    "parameters"
   ]
  },
  {
   "cell_type": "code",
   "execution_count": 25,
   "metadata": {},
   "outputs": [],
   "source": [
    "param = parameters.loc[0]"
   ]
  },
  {
   "cell_type": "code",
   "execution_count": 21,
   "metadata": {},
   "outputs": [],
   "source": [
    "modelTtaBounds = ModelTtaBounds()"
   ]
  },
  {
   "cell_type": "code",
   "execution_count": 30,
   "metadata": {},
   "outputs": [],
   "source": [
    "overlay = (ddm.OverlayNonDecisionUniform(nondectime=param.nondectime,\n",
    "                                        halfwidth=param.halfwidth) \n",
    "            if ndt=='uniform' else \n",
    "           ModelTtaBounds.OverlayNonDecisionGaussian(nondectime=param.nondectime,\n",
    "                                                       ndsigma=param.halfwidth))\n",
    "\n",
    "modelTtaBounds.model = ddm.Model(name='5 TTA- and d-dependent drift and bounds and random nondecision time',\n",
    "                         drift=ModelTtaBounds.DriftTtaDistance(alpha=param.alpha, beta=param.beta, theta=param.theta),\n",
    "                         noise=ddm.NoiseConstant(noise=param.noise),\n",
    "                         bound=ModelTtaBounds.BoundCollapsingTta(b_0=param.b_0, k=param.k, tta_crit=param.tta_crit),\n",
    "                         overlay=overlay,\n",
    "                         T_dur=ModelTtaBounds.T_dur)"
   ]
  },
  {
   "cell_type": "code",
   "execution_count": 31,
   "metadata": {},
   "outputs": [
    {
     "name": "stdout",
     "output_type": "stream",
     "text": [
      "Model 5 TTA- and d-dependent drift and bounds and random nondecision time information:\n",
      "Drift component DriftTtaDistance:\n",
      "    Drift depends on TTA and distance\n",
      "    Fixed parameters:\n",
      "    - alpha: 1.502183\n",
      "    - beta: 0.019671\n",
      "    - theta: 6.834053\n",
      "Noise component NoiseConstant:\n",
      "    constant\n",
      "    Fixed parameters:\n",
      "    - noise: 1.000000\n",
      "Bound component BoundCollapsingTta:\n",
      "    Bounds collapsing with TTA\n",
      "    Fixed parameters:\n",
      "    - b_0: 1.257530\n",
      "    - k: 1.263810\n",
      "    - tta_crit: 3.732779\n",
      "IC component ICPointSourceCenter:\n",
      "    point_source_center\n",
      "    (No parameters)\n",
      "Overlay component OverlayNonDecisionGaussian:\n",
      "    Add a Gaussian-distributed non-decision time\n",
      "    Fixed parameters:\n",
      "    - nondectime: 0.367761\n",
      "    - ndsigma: 0.032294\n",
      "\n"
     ]
    }
   ],
   "source": [
    "ddm.functions.display_model(modelTtaBounds.model)"
   ]
  },
  {
   "cell_type": "code",
   "execution_count": 39,
   "metadata": {},
   "outputs": [],
   "source": [
    "condition = conditions[0]"
   ]
  },
  {
   "cell_type": "code",
   "execution_count": 40,
   "metadata": {},
   "outputs": [],
   "source": [
    "sol = modelTtaBounds.model.solve(conditions=condition)"
   ]
  },
  {
   "cell_type": "code",
   "execution_count": 44,
   "metadata": {},
   "outputs": [],
   "source": [
    "def get_model_measures(model, condition):\n",
    "    sol = model.solve(condition)\n",
    "    return condition['tta_condition'], condition['d_condition'], sol.prob_correct(), sol.mean_decision_time()"
   ]
  },
  {
   "cell_type": "code",
   "execution_count": 45,
   "metadata": {},
   "outputs": [],
   "source": [
    "model_measures = [get_model_measures(modelTtaBounds.model, condition) for condition in conditions]"
   ]
  },
  {
   "cell_type": "code",
   "execution_count": 46,
   "metadata": {},
   "outputs": [
    {
     "data": {
      "text/plain": [
       "[(4.0, 90.0, 0.07262584077125499, 0.629672383524236),\n",
       " (4.0, 150.0, 0.358718203711926, 0.6707796359425608),\n",
       " (4.0, 120.0, 0.17682073955261116, 0.6560525454655103),\n",
       " (5.0, 90.0, 0.1663167292306485, 0.8395620104084046),\n",
       " (5.0, 150.0, 0.693725750132772, 0.842780136946839),\n",
       " (5.0, 120.0, 0.39996688779197814, 0.8613087477611082),\n",
       " (6.0, 90.0, 0.5560637835154901, 0.9578353525621883),\n",
       " (6.0, 150.0, 0.9713896319018631, 0.7962208158296877),\n",
       " (6.0, 120.0, 0.8419404998318335, 0.9007292521843867)]"
      ]
     },
     "execution_count": 46,
     "metadata": {},
     "output_type": "execute_result"
    }
   ],
   "source": [
    "model_measures"
   ]
  }
 ],
 "metadata": {
  "kernelspec": {
   "display_name": "Python 3",
   "language": "python",
   "name": "python3"
  },
  "language_info": {
   "codemirror_mode": {
    "name": "ipython",
    "version": 3
   },
   "file_extension": ".py",
   "mimetype": "text/x-python",
   "name": "python",
   "nbconvert_exporter": "python",
   "pygments_lexer": "ipython3",
   "version": "3.7.4"
  }
 },
 "nbformat": 4,
 "nbformat_minor": 2
}
